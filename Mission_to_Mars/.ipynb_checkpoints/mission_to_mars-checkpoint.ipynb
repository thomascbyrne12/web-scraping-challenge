{
 "cells": [
  {
   "cell_type": "code",
   "execution_count": 1,
   "metadata": {},
   "outputs": [],
   "source": [
    "# Importing Dependencies\n",
    "import pandas as pd\n",
    "from bs4 import BeautifulSoup\n",
    "import requests\n",
    "import os\n",
    "from splinter import Browser"
   ]
  },
  {
   "cell_type": "code",
   "execution_count": 30,
   "metadata": {},
   "outputs": [],
   "source": [
    "# Webpage to scrape url for NASA\n",
    "url_nasa = \"https://mars.nasa.gov/news/?page=0&per_page=40&order=publish_date+desc%2Ccreated_at\\\n",
    "            +desc&search=&category=19%2C165%2C184%2C204&blank_scope=Latest\"\n",
    "\n",
    "# Creating Beautiful Soup connection and output file to NASA url\n",
    "response_nasa = requests.get(url_nasa)\n",
    "soup_nasa = BeautifulSoup(response_nasa.text, 'html.parser')"
   ]
  },
  {
   "cell_type": "code",
   "execution_count": 3,
   "metadata": {},
   "outputs": [],
   "source": [
    "# Locating and storing html title and paragraph tags\n",
    "news_titles = soup_nasa.find_all('div', class_='content_title')\n",
    "news_paragraphs = soup_nasa.find_all('div', class_='article_teaser_body')"
   ]
  },
  {
   "cell_type": "code",
   "execution_count": 4,
   "metadata": {},
   "outputs": [
    {
     "data": {
      "text/plain": [
       "'NASA Invites Students to Name Mars 2020 Rover'"
      ]
     },
     "execution_count": 4,
     "metadata": {},
     "output_type": "execute_result"
    }
   ],
   "source": [
    "# Pulls first article title and removes /n characters\n",
    "first_news_title = news_titles[0].text\n",
    "first_news_title = first_news_title.replace(\"\\n\", \"\")\n",
    "first_news_title"
   ]
  },
  {
   "cell_type": "code",
   "execution_count": 5,
   "metadata": {},
   "outputs": [],
   "source": [
    "# Pulls first article description\n",
    "# # first_news_paragraph = news_paragraphs[0].text\n",
    "\n",
    "## File is empty and returns an error"
   ]
  },
  {
   "cell_type": "code",
   "execution_count": 6,
   "metadata": {},
   "outputs": [],
   "source": [
    "# Creatin splinter file for NASA url\n",
    "executable_path = {'executable_path': 'chromedriver.exe'}\n",
    "browser = Browser('chrome', **executable_path, headless=False)\n",
    "browser.visit(url_nasa)\n",
    "html = browser.html"
   ]
  },
  {
   "cell_type": "code",
   "execution_count": 7,
   "metadata": {},
   "outputs": [],
   "source": [
    "# Uses splinter and soup to search for feature image\n",
    "for x in range(1,6):\n",
    "    \n",
    "    html = browser.html\n",
    "    soup = BeautifulSoup(html, 'html.parser')\n",
    "    \n",
    "    feature_image_url_end = soup.find('div', {'class': 'list_image'}).img['src']\n",
    "    \n",
    "feature_image_url = 'https://mars.nasa.gov' + feature_image_url_end"
   ]
  },
  {
   "cell_type": "code",
   "execution_count": 8,
   "metadata": {},
   "outputs": [
    {
     "data": {
      "text/plain": [
       "'https://mars.nasa.gov/system/news_items/list_view_images/8568_PIA23515_annotated-globe-320x240.gif'"
      ]
     },
     "execution_count": 8,
     "metadata": {},
     "output_type": "execute_result"
    }
   ],
   "source": [
    "feature_image_url"
   ]
  },
  {
   "cell_type": "code",
   "execution_count": 9,
   "metadata": {},
   "outputs": [],
   "source": [
    "# Mars weather twitter scraping\n",
    "url_twitter = \"https://twitter.com/marswxreport?lang=en\"\n",
    "\n",
    "# Getting new connection and output file\n",
    "response_twitter = requests.get(url_twitter)\n",
    "soup_twitter = BeautifulSoup(response_twitter.text, 'html.parser')"
   ]
  },
  {
   "cell_type": "code",
   "execution_count": 10,
   "metadata": {},
   "outputs": [
    {
     "data": {
      "text/plain": [
       "'InSight sol 371 (2019-12-12) low -96.6ºC (-141.9ºF) high -19.8ºC (-3.6ºF)\\nwinds from the SW at 5.3 m/s (11.8 mph) gusting to 21.0 m/s (46.9 mph)\\npressure at 6.60 hPapic.twitter.com/VKC855F0Mr'"
      ]
     },
     "execution_count": 10,
     "metadata": {},
     "output_type": "execute_result"
    }
   ],
   "source": [
    "# Scrapes webpage for the most recent tweet about Mars weather\n",
    "mars_weather = soup_twitter.find('p', {'class': 'TweetTextSize TweetTextSize--normal js-tweet-text tweet-text'})\n",
    "mars_weather.text"
   ]
  },
  {
   "cell_type": "code",
   "execution_count": 11,
   "metadata": {},
   "outputs": [],
   "source": [
    "# Mars Facts Webpage url\n",
    "url_facts = \"https://space-facts.com/mars/\"\n",
    "\n",
    "# Pandas scraping for Mars Facts url\n",
    "facts_dfs = pd.read_html(url_facts)"
   ]
  },
  {
   "cell_type": "code",
   "execution_count": 12,
   "metadata": {},
   "outputs": [],
   "source": [
    "# Pandas table manipulation and writing to html\n",
    "facts_df = facts_dfs[0]\n",
    "facts_df.columns = ['Variable', 'Value']\n",
    "facts_df.set_index('Variable')\n",
    "facts_html = facts_df.to_html('table.html')"
   ]
  },
  {
   "cell_type": "code",
   "execution_count": 13,
   "metadata": {},
   "outputs": [],
   "source": [
    "# Astrogeology webpage urls\n",
    "url_cerberus = \"https://astrogeology.usgs.gov/search/map/Mars/Viking/cerberus_enhanced\"\n",
    "url_schiaparelli = 'https://astrogeology.usgs.gov/search/map/Mars/Viking/schiaparelli_enhanced'\n",
    "url_syrtis_major = 'https://astrogeology.usgs.gov/search/map/Mars/Viking/syrtis_major_enhanced'\n",
    "url_valles_marineris = 'https://astrogeology.usgs.gov/search/map/Mars/Viking/valles_marineris_enhanced'\n",
    "\n",
    "# Getting new connections and output files\n",
    "response_cerberus = requests.get(url_cerberus)\n",
    "soup_cerberus = BeautifulSoup(response_cerberus.text, 'html.parser')\n",
    "\n",
    "response_schiaparelli = requests.get(url_schiaparelli)\n",
    "soup_schiaparelli = BeautifulSoup(response_schiaparelli.text, 'html.parser')\n",
    "\n",
    "response_syrtis_major = requests.get(url_syrtis_major)\n",
    "soup_syrtis_major = BeautifulSoup(response_syrtis_major.text, 'html.parser')\n",
    "\n",
    "response_valles_marineris = requests.get(url_valles_marineris)\n",
    "soup_valles_marineris = BeautifulSoup(response_valles_marineris.text, 'html.parser')"
   ]
  },
  {
   "cell_type": "code",
   "execution_count": 29,
   "metadata": {},
   "outputs": [
    {
     "ename": "SyntaxError",
     "evalue": "invalid syntax (<ipython-input-29-8cfdf58d28eb>, line 6)",
     "output_type": "error",
     "traceback": [
      "\u001b[1;36m  File \u001b[1;32m\"<ipython-input-29-8cfdf58d28eb>\"\u001b[1;36m, line \u001b[1;32m6\u001b[0m\n\u001b[1;33m    syrtis_major = {'title' : soup_syrtis_major.find('h2', {'class': 'title'}), \\\u001b[0m\n\u001b[1;37m               ^\u001b[0m\n\u001b[1;31mSyntaxError\u001b[0m\u001b[1;31m:\u001b[0m invalid syntax\n"
     ]
    }
   ],
   "source": [
    "# Dictionaries to hold hemisphere data\n",
    "cerberus = {'title' : soup_cerberus.find('h2', {'class': 'title'}), \\\n",
    "            'img_url' : soup_cerberus.find('img', {'class': 'wide-image'})}\n",
    "schiaparelli = {'title' : soup_schiaparelli.find('h2', {'class': 'title'}), \\\n",
    "                'img_url' : soup_schiaparelli.find('img', {'class': 'wide-image'})\n",
    "syrtis_major = {'title' : soup_syrtis_major.find('h2', {'class': 'title'}), \\\n",
    "                'img_url' : soup_syrtis_major.find('img', {'class': 'wide-image'})\n",
    "valles_marineris = {'title' : soup_valles_marineris.find('h2', {'class': 'title'}), \\\n",
    "                    'img_url' : soup_valles_marineris.find('img', {'class': 'wide-image'})\n",
    "                          \n",
    "hemisphere_image_urls = [cerberus, schiaparelli, syrtis_major, valle_marineris]"
   ]
  },
  {
   "cell_type": "code",
   "execution_count": null,
   "metadata": {},
   "outputs": [],
   "source": []
  }
 ],
 "metadata": {
  "kernelspec": {
   "display_name": "Python 3",
   "language": "python",
   "name": "python3"
  },
  "language_info": {
   "codemirror_mode": {
    "name": "ipython",
    "version": 3
   },
   "file_extension": ".py",
   "mimetype": "text/x-python",
   "name": "python",
   "nbconvert_exporter": "python",
   "pygments_lexer": "ipython3",
   "version": "3.7.3"
  }
 },
 "nbformat": 4,
 "nbformat_minor": 2
}
